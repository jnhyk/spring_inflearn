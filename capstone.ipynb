{
  "nbformat": 4,
  "nbformat_minor": 0,
  "metadata": {
    "colab": {
      "provenance": [],
      "authorship_tag": "ABX9TyOyeIK8i5KioW95FJkKpyuS",
      "include_colab_link": true
    },
    "kernelspec": {
      "name": "python3",
      "display_name": "Python 3"
    },
    "language_info": {
      "name": "python"
    }
  },
  "cells": [
    {
      "cell_type": "markdown",
      "metadata": {
        "id": "view-in-github",
        "colab_type": "text"
      },
      "source": [
        "<a href=\"https://colab.research.google.com/github/jnhyk/spring_inflearn/blob/master/capstone.ipynb\" target=\"_parent\"><img src=\"https://colab.research.google.com/assets/colab-badge.svg\" alt=\"Open In Colab\"/></a>"
      ]
    },
    {
      "cell_type": "code",
      "execution_count": null,
      "metadata": {
        "colab": {
          "base_uri": "https://localhost:8080/"
        },
        "id": "LE3g6mniyhaa",
        "outputId": "5b793150-6681-4799-d27c-ffebfc32113b"
      },
      "outputs": [
        {
          "output_type": "stream",
          "name": "stdout",
          "text": [
            "Mounted at /content/drive\n"
          ]
        }
      ],
      "source": [
        "# 드라이브 마운트\n",
        "from google.colab import drive\n",
        "drive.mount('/content/drive')"
      ]
    },
    {
      "cell_type": "code",
      "source": [
        "%cd /content/drive/MyDrive/\n",
        "\n",
        "!unzip -qq \"/content/drive/MyDrive/Binary_Data.zip\""
      ],
      "metadata": {
        "colab": {
          "base_uri": "https://localhost:8080/"
        },
        "id": "IgpH-6ysyudX",
        "outputId": "2fee0c36-e062-4cdf-e8a6-e6eb2e451d78"
      },
      "execution_count": null,
      "outputs": [
        {
          "output_type": "stream",
          "name": "stdout",
          "text": [
            "/content/drive/MyDrive\n"
          ]
        }
      ]
    },
    {
      "cell_type": "code",
      "source": [
        "import tensorflow as tf\n",
        "from tensorflow.keras.preprocessing.image import ImageDataGenerator\n",
        "\n",
        "# 이미지 데이터 전처리 및 분할 설정\n",
        "datagen = ImageDataGenerator(\n",
        "    rescale=1./255,\n",
        "    validation_split=0.2  # 20%의 데이터를 검증 데이터로 분할\n",
        ")\n",
        "\n",
        "# 최상위 디렉토리 경로 설정\n",
        "base_dir = '/content/drive/MyDrive'\n",
        "\n",
        "# 훈련 데이터 생성기\n",
        "train_generator = datagen.flow_from_directory(\n",
        "    base_dir,  # 최상위 디렉토리 경로\n",
        "    target_size=(150, 150),  # 모든 이미지를 150x150 크기로 조정\n",
        "    batch_size=32,\n",
        "    class_mode='binary',  # 이진 분류\n",
        "    subset='training',  # 'training'으로 설정하여 훈련 데이터 생성\n",
        "    classes=['normal', 'abnormal']  # 폴더 이름과 클래스 이름 매핑\n",
        ")\n",
        "\n",
        "# 테스트 데이터 생성기\n",
        "validation_generator = datagen.flow_from_directory(\n",
        "    base_dir,  # 최상위 디렉토리 경로\n",
        "    target_size=(150, 150),  # 모든 이미지를 150x150 크기로 조정\n",
        "    batch_size=32,\n",
        "    class_mode='binary',  # 이진 분류\n",
        "    subset='validation',  # 'validation'으로 설정하여 테스트 데이터 생성\n",
        "    classes=['normal', 'abnormal']  # 폴더 이름과 클래스 이름 매핑\n",
        ")\n",
        "\n",
        "# 모델 정의\n",
        "model = tf.keras.models.Sequential([\n",
        "    tf.keras.layers.Conv2D(32, (3,3), activation='relu', input_shape=(150, 150, 3)),\n",
        "    tf.keras.layers.MaxPooling2D(2,2),\n",
        "    tf.keras.layers.Conv2D(64, (3,3), activation='relu'),\n",
        "    tf.keras.layers.MaxPooling2D(2,2),\n",
        "    tf.keras.layers.Conv2D(128, (3,3), activation='relu'),\n",
        "    tf.keras.layers.MaxPooling2D(2,2),\n",
        "    tf.keras.layers.Flatten(),\n",
        "    tf.keras.layers.Dense(512, activation='relu'),\n",
        "    tf.keras.layers.Dense(1, activation='sigmoid')\n",
        "])\n",
        "\n",
        "# 모델 컴파일\n",
        "model.compile(optimizer='adam', loss='binary_crossentropy', metrics=['accuracy'])\n",
        "\n",
        "# 모델 학습\n",
        "history = model.fit(\n",
        "    train_generator,\n",
        "    epochs=10,\n",
        "    validation_data=validation_generator\n",
        ")\n",
        "\n",
        "# 모델 저장\n",
        "model.save('path_to_my_model.h5')"
      ],
      "metadata": {
        "colab": {
          "base_uri": "https://localhost:8080/"
        },
        "id": "LYC4Q_AUyy9_",
        "outputId": "b5dee886-3fd5-4aa0-f50b-d5c65d040d49"
      },
      "execution_count": null,
      "outputs": [
        {
          "output_type": "stream",
          "name": "stdout",
          "text": [
            "Found 4728 images belonging to 2 classes.\n",
            "Found 1181 images belonging to 2 classes.\n",
            "Epoch 1/10\n",
            "148/148 [==============================] - 847s 6s/step - loss: 0.3074 - accuracy: 0.8976 - val_loss: 0.4334 - val_accuracy: 0.8273\n",
            "Epoch 2/10\n",
            "148/148 [==============================] - 864s 6s/step - loss: 0.2089 - accuracy: 0.9416 - val_loss: 0.4294 - val_accuracy: 0.8146\n",
            "Epoch 3/10\n",
            "148/148 [==============================] - 791s 5s/step - loss: 0.1727 - accuracy: 0.9524 - val_loss: 0.3943 - val_accuracy: 0.8544\n",
            "Epoch 4/10\n",
            "148/148 [==============================] - 790s 5s/step - loss: 0.1514 - accuracy: 0.9581 - val_loss: 0.4431 - val_accuracy: 0.8476\n",
            "Epoch 5/10\n",
            "148/148 [==============================] - 815s 6s/step - loss: 0.1270 - accuracy: 0.9638 - val_loss: 0.5270 - val_accuracy: 0.8467\n",
            "Epoch 6/10\n",
            "148/148 [==============================] - 891s 6s/step - loss: 0.1119 - accuracy: 0.9653 - val_loss: 0.6306 - val_accuracy: 0.8467\n",
            "Epoch 7/10\n",
            "148/148 [==============================] - 869s 6s/step - loss: 0.1019 - accuracy: 0.9679 - val_loss: 0.5661 - val_accuracy: 0.8467\n",
            "Epoch 8/10\n",
            "148/148 [==============================] - 867s 6s/step - loss: 0.0972 - accuracy: 0.9691 - val_loss: 0.5988 - val_accuracy: 0.8450\n",
            "Epoch 9/10\n",
            "148/148 [==============================] - 908s 6s/step - loss: 0.0826 - accuracy: 0.9708 - val_loss: 0.6837 - val_accuracy: 0.8256\n",
            "Epoch 10/10\n",
            "148/148 [==============================] - 918s 6s/step - loss: 0.0669 - accuracy: 0.9780 - val_loss: 0.5615 - val_accuracy: 0.8425\n"
          ]
        },
        {
          "output_type": "stream",
          "name": "stderr",
          "text": [
            "/usr/local/lib/python3.10/dist-packages/keras/src/engine/training.py:3103: UserWarning: You are saving your model as an HDF5 file via `model.save()`. This file format is considered legacy. We recommend using instead the native Keras format, e.g. `model.save('my_model.keras')`.\n",
            "  saving_api.save_model(\n"
          ]
        }
      ]
    }
  ]
}